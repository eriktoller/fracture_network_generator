{
 "cells": [
  {
   "cell_type": "markdown",
   "metadata": {},
   "source": [
    "# Fracture Network Generator\n",
    "This program generates a fracture network using the following inputs:\n",
    "- number of fractures\n",
    "- axis limits for x and y\n",
    "- maximum length of fracture\n",
    "- minimum length of fracture\n",
    "\n",
    "The prgram was written by:\n",
    "\n",
    "Erik Toller, Department of Earth Sciences, Uppsala University, Sweden. erik.toller@geo.uu.se"
   ]
  },
  {
   "cell_type": "markdown",
   "metadata": {},
   "source": [
    "## Program structure\n",
    "\n",
    "The program works in the following steps:\n",
    "1. Collection of user input\n",
    "2. Generation of fracture network\n",
    "3. Checking the length limitation\n",
    "4. Revome excess fractures\n",
    "5. Plot and export the results\n",
    "\n",
    "us class for line, z1 and z2, and then zz.length() will work\n",
    "or as a module maybe"
   ]
  },
  {
   "cell_type": "code",
   "execution_count": 508,
   "metadata": {},
   "outputs": [
    {
     "name": "stdout",
     "output_type": "stream",
     "text": [
      "Enter number of fractures:\n",
      "Enter axis limits as [xfrom xto yfrom yto]:\n",
      "Number of fractures: 50\n",
      "Axis limits: [-1, 1, -1, 1]\n"
     ]
    }
   ],
   "source": [
    "print('Enter number of fractures:')\n",
    "num = 50 #input()\n",
    "print('Enter axis limits as [xfrom xto yfrom yto]:')\n",
    "xy_ax = [-1, 1, -1, 1] #input() \n",
    "\n",
    "print('Number of fractures: ' + str(num))\n",
    "print('Axis limits: ' + str(xy_ax))"
   ]
  },
  {
   "cell_type": "code",
   "execution_count": 509,
   "metadata": {},
   "outputs": [],
   "source": [
    "import importlib\n",
    "import gen_funcs as gf\n",
    "importlib.reload(gf)\n",
    "import numpy as np\n",
    "import matplotlib.pyplot as plt"
   ]
  },
  {
   "cell_type": "code",
   "execution_count": 519,
   "metadata": {},
   "outputs": [],
   "source": [
    "z = gf.rand_gen(int(num*1.1+1), xy_ax)\n",
    "dist = gf.distance(z)"
   ]
  },
  {
   "cell_type": "code",
   "execution_count": 520,
   "metadata": {},
   "outputs": [],
   "source": [
    "z1 = np.zeros(num) + np.zeros(num)*1j\n",
    "z2 = np.zeros(num) + np.zeros(num)*1j\n",
    "for pos in range(num):\n",
    "    z1[pos] += z[pos]\n",
    "    pos_min = np.where(dist[pos] == np.min(np.delete(dist[pos], np.arange(pos+1))))\n",
    "    z2[pos] += z[pos_min]\n",
    "    "
   ]
  },
  {
   "cell_type": "code",
   "execution_count": 521,
   "metadata": {},
   "outputs": [],
   "source": [
    "L = gf.length(z1[0], z2[0])\n",
    "if any(z1.real > xy_ax[1]) == True:\n",
    "    z1[z1.real > xy_ax[1]] = z1[z1.real > xy_ax[1]].imag*1j + xy_ax[1]\n"
   ]
  },
  {
   "cell_type": "code",
   "execution_count": 522,
   "metadata": {},
   "outputs": [
    {
     "data": {
      "image/png": "[encoded data removed]",
      "text/plain": [
       "<Figure size 432x288 with 1 Axes>"
      ]
     },
     "metadata": {
      "needs_background": "light"
     },
     "output_type": "display_data"
    }
   ],
   "source": [
    "X1 = [z1.real for x in z1]\n",
    "Y1 = [z1.imag for x in z1]\n",
    "X2 = [z2.real for x in z2]\n",
    "Y2 = [z2.imag for x in z2]\n",
    "for pos in range(num):\n",
    "    plt.plot([X1[0][pos],X2[0][pos]],[Y1[0][pos],Y2[0][pos]], color='black')\n",
    "plt.show()"
   ]
  },
  {
   "cell_type": "code",
   "execution_count": 523,
   "metadata": {},
   "outputs": [
    {
     "name": "stdout",
     "output_type": "stream",
     "text": [
      "50\n",
      "50\n"
     ]
    }
   ],
   "source": [
    "print(len(z1))\n",
    "print(len(z2))"
   ]
  },
  {
   "cell_type": "code",
   "execution_count": null,
   "metadata": {},
   "outputs": [],
   "source": []
  },
  {
   "cell_type": "code",
   "execution_count": null,
   "metadata": {},
   "outputs": [],
   "source": []
  },
  {
   "cell_type": "code",
   "execution_count": null,
   "metadata": {},
   "outputs": [],
   "source": []
  }
 ],
 "metadata": {
  "kernelspec": {
   "display_name": "Python 3",
   "language": "python",
   "name": "python3"
  },
  "language_info": {
   "codemirror_mode": {
    "name": "ipython",
    "version": 3
   },
   "file_extension": ".py",
   "mimetype": "text/x-python",
   "name": "python",
   "nbconvert_exporter": "python",
   "pygments_lexer": "ipython3",
   "version": "3.8.5"
  }
 },
 "nbformat": 4,
 "nbformat_minor": 4
}
